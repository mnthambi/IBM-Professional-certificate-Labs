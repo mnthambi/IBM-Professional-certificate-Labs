{
 "cells": [
  {
   "cell_type": "markdown",
   "id": "236b36d5-33e1-4038-8a1b-67e56b535c48",
   "metadata": {},
   "source": [
    "markdown\n",
    "## Data Science Tools and Ecosystem"
   ]
  },
  {
   "cell_type": "markdown",
   "id": "c31f4fe2-5ee5-4489-922f-0fe413ff59ae",
   "metadata": {},
   "source": [
    "### Introduction\n",
    "In this notebook, Data Science Tools and Ecosystem are summarized."
   ]
  },
  {
   "cell_type": "markdown",
   "id": "db1d9f8c-cc69-4ae2-9cb8-e916225ebd39",
   "metadata": {},
   "source": [
    "#### List of data science languages\n",
    "\n",
    "Some of the popular languages that Data Scientists use are:\n",
    "\n",
    "1. Python - it is the most popular and has rich ecossytem libraries such as NumPy, Pandas, Matplotlib, and scikit-learn\n",
    "2. R - which is designed for statistical computing and graphics\n",
    "3. SQL - Structural Query language which is used in managing and manipulating relational databases\n",
    "4. Julia - is relatively new but has both Python and R syntax\n",
    "5. Scala - Is a general purpose language that runs on the Java Virtual Machine (JVM)"
   ]
  },
  {
   "cell_type": "markdown",
   "id": "ba10662a-ea46-4469-8257-0e546c92dac4",
   "metadata": {},
   "source": [
    "##### List of data science libraries\n",
    "\n",
    "Some of the commonly used libraries used by Data Scientists include:\n",
    "\n",
    "1. NumPy - is used for numerical computing in Python\n",
    "2. Pandas - Data manipulation and analysis in Python\n",
    "3. Matplotlib - provides a range of visualisation such as plots, graphs etc\n",
    "4. Seaborn - For statistical data visualisation in addition to Matplotlib\n",
    "5. scikit-learn - Comprehensive library for machine learning in Python\n",
    "6. TensorFlow - open-source library for machine and deep learning\n",
    "7. Keras - high-level neural networks to run in addition to Tensor flow\n",
    "8. PyTorch -deep learning framework that provides dynamic computational graphs and a flexible API\n"
   ]
  },
  {
   "cell_type": "code",
   "execution_count": null,
   "id": "3dda39da-23c7-4130-a67b-1fb1a2e63be9",
   "metadata": {},
   "outputs": [],
   "source": []
  },
  {
   "cell_type": "markdown",
   "id": "73680171-1977-468d-b309-167f2d8f5033",
   "metadata": {},
   "source": [
    "######  A table of Data Science tools\n",
    "\n",
    "\n",
    "| Category        | Tools                                           |Open-source\n",
    "|-----------------|-------------------------------------------------|-----------------------------------------------|\n",
    "| Programming     | Python, R, Julia, Scala, SQL                    |Python, R, Julia and Scala|\n",
    "| Data Manipulation | Pandas, dplyr, data.table, SQL                  |Pandas, dplyr, data.table|\n",
    "| Data Visualization | Matplotlib, Seaborn, ggplot2, Plotly, Tableau, Power BI, QlikView, D3.js |Matplotlib, Seaborn, ggplot2,plotly,D3.js|\n",
    "| Machine Learning |scikit-learn, TensorFlow, Keras, PyTorch         |scikit-learn, TensorFlow, Keras, PyTorch|\n",
    "| Deep Learning   | TensorFlow, PyTorch, Keras, Caffe, MXNet         |TensorFlow, PyTorch, Keras, Caffe, MXNet|\n",
    "| Big Data Processing | Apache Spark, Hadoop, Hive, Pig, Flink         |Apache Spark, Hadoop, Hive, Pig, Flink|\n",
    "| Natural Language Processing | NLTK, spaCy, Gensim, CoreNLP              |NLTK, spaCy, Gensim, CoreNLP|\n",
    "| Data Mining     | RapidMiner, KNIME, Orange, Weka                  |RapidMiner, KNIME, Orange, Weka|\n",
    "| Cloud Computing | Amazon Web Services (AWS), Google Cloud Platform (GCP), Microsoft Azure |N/A|\n",
    "| Data Integration | Apache Kafka, Apache Nifi, Talend, Informatica  |Apache Kafka, Apache Nifi|\n",
    "| Version Control | Git, SVN, Mercurial, Bitbucket, GitHub           |Git, Github, Subversion (SVN)|\n",
    "| Data Warehousing | Amazon Redshift, Google BigQuery, Snowflake     |N/A|\n",
    "| Data Cleaning   | OpenRefine, Trifacta Wrangler, DataRobot         |\n",
    "| Statistical Analysis | R, SAS, SPSS, Stata, MATLAB                    |R|\n",
    "| Notebooks       | Jupyter Notebook, RStudio, Zeppelin             |Jupyter Notebook, Rstudio, Zeppelin|\n",
    "| Data Science Platforms | Anaconda, Dataiku, Databricks, Domino Data Lab |Anaconda includes open-source software packages but is not entirely free|\n",
    "\n",
    "\n",
    "\n",
    "\n",
    "\n",
    "\n"
   ]
  },
  {
   "cell_type": "markdown",
   "id": "88765f07-83d4-4846-a728-9ab872c59ea2",
   "metadata": {},
   "source": [
    "###### Introduction into arithmetic expressions - Examples\n",
    "Below are a few examples of evaluating arithmetic expressions in Python\n",
    "\n",
    "For instance this is a simple arithmetic expression to multiply then add integers"
   ]
  },
  {
   "cell_type": "code",
   "execution_count": 35,
   "id": "2314234f-44c3-4146-868e-f81623b3dc9a",
   "metadata": {},
   "outputs": [
    {
     "name": "stdout",
     "output_type": "stream",
     "text": [
      "17\n"
     ]
    }
   ],
   "source": [
    "result = (3 * 4) + 5\n",
    "print(result)"
   ]
  },
  {
   "cell_type": "markdown",
   "id": "e40cd62a-dba2-4ffc-8eff-fc90aca5924f",
   "metadata": {},
   "source": [
    "###### A code to convert minutes to hours\n",
    "This code will convert 200 minutes to hours by dividing by 60"
   ]
  },
  {
   "cell_type": "code",
   "execution_count": 41,
   "id": "fe1ceaca-0255-4c46-a7ce-aa518b7dbeb3",
   "metadata": {},
   "outputs": [
    {
     "name": "stdout",
     "output_type": "stream",
     "text": [
      "3.3333333333333335\n"
     ]
    }
   ],
   "source": [
    "result = 200 / 60\n",
    "print (result)"
   ]
  },
  {
   "cell_type": "markdown",
   "id": "f4e378db-849a-4ecf-85ad-80f01b19b0c3",
   "metadata": {},
   "source": [
    "###### The objectives of this course\n",
    "\n",
    "**Objectives**\n",
    "\n",
    "- To identify and list data science languages, libraries and tools particularly those that are open-source\n",
    "- To perform simple arithmetic expressions\n",
    "- To familiarise with Python notebooks markdown as a partial fulfillment of the IBM data science professional certification\n",
    "\n"
   ]
  },
  {
   "cell_type": "markdown",
   "id": "76810b87-50d3-4757-8ce5-0ae43eb7ead8",
   "metadata": {},
   "source": [
    "## AUTHOR: MARY NTHAMBI"
   ]
  },
  {
   "cell_type": "code",
   "execution_count": null,
   "id": "1568eced-2c1d-4995-b3e3-d5b9468dd0e0",
   "metadata": {},
   "outputs": [],
   "source": []
  }
 ],
 "metadata": {
  "kernelspec": {
   "display_name": "anaconda-panel-2023.05-py310",
   "language": "python",
   "name": "conda-env-anaconda-panel-2023.05-py310-py"
  },
  "language_info": {
   "codemirror_mode": {
    "name": "ipython",
    "version": 3
   },
   "file_extension": ".py",
   "mimetype": "text/x-python",
   "name": "python",
   "nbconvert_exporter": "python",
   "pygments_lexer": "ipython3",
   "version": "3.11.4"
  }
 },
 "nbformat": 4,
 "nbformat_minor": 5
}
